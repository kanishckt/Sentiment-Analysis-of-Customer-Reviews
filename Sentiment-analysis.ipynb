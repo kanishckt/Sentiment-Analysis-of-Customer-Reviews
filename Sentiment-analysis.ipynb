{
 "cells": [
  {
   "attachments": {},
   "cell_type": "markdown",
   "metadata": {},
   "source": [
    "# AIP Group 15 \n",
    "### Kanishck Tewatia\n",
    "### 500203405"
   ]
  },
  {
   "cell_type": "code",
   "execution_count": 1,
   "metadata": {},
   "outputs": [],
   "source": [
    "import pandas as pd\n",
    "import numpy as np"
   ]
  },
  {
   "cell_type": "code",
   "execution_count": 2,
   "metadata": {},
   "outputs": [],
   "source": [
    "df= pd.read_excel(\"Yeti_Analytics.xlsx\")"
   ]
  },
  {
   "cell_type": "code",
   "execution_count": 3,
   "metadata": {},
   "outputs": [
    {
     "data": {
      "text/plain": [
       "(20491, 2)"
      ]
     },
     "execution_count": 3,
     "metadata": {},
     "output_type": "execute_result"
    }
   ],
   "source": [
    "df.shape"
   ]
  },
  {
   "cell_type": "code",
   "execution_count": 4,
   "metadata": {},
   "outputs": [
    {
     "data": {
      "text/html": [
       "<div>\n",
       "<style scoped>\n",
       "    .dataframe tbody tr th:only-of-type {\n",
       "        vertical-align: middle;\n",
       "    }\n",
       "\n",
       "    .dataframe tbody tr th {\n",
       "        vertical-align: top;\n",
       "    }\n",
       "\n",
       "    .dataframe thead th {\n",
       "        text-align: right;\n",
       "    }\n",
       "</style>\n",
       "<table border=\"1\" class=\"dataframe\">\n",
       "  <thead>\n",
       "    <tr style=\"text-align: right;\">\n",
       "      <th></th>\n",
       "      <th>Review</th>\n",
       "      <th>Rating</th>\n",
       "    </tr>\n",
       "  </thead>\n",
       "  <tbody>\n",
       "    <tr>\n",
       "      <th>0</th>\n",
       "      <td>nice hotel expensive parking got good deal sta...</td>\n",
       "      <td>4</td>\n",
       "    </tr>\n",
       "    <tr>\n",
       "      <th>1</th>\n",
       "      <td>ok nothing special charge diamond member hilto...</td>\n",
       "      <td>2</td>\n",
       "    </tr>\n",
       "    <tr>\n",
       "      <th>2</th>\n",
       "      <td>nice rooms not 4* experience hotel monaco seat...</td>\n",
       "      <td>3</td>\n",
       "    </tr>\n",
       "    <tr>\n",
       "      <th>3</th>\n",
       "      <td>unique, great stay, wonderful time hotel monac...</td>\n",
       "      <td>5</td>\n",
       "    </tr>\n",
       "    <tr>\n",
       "      <th>4</th>\n",
       "      <td>great stay great stay, went seahawk game aweso...</td>\n",
       "      <td>5</td>\n",
       "    </tr>\n",
       "  </tbody>\n",
       "</table>\n",
       "</div>"
      ],
      "text/plain": [
       "                                              Review  Rating\n",
       "0  nice hotel expensive parking got good deal sta...       4\n",
       "1  ok nothing special charge diamond member hilto...       2\n",
       "2  nice rooms not 4* experience hotel monaco seat...       3\n",
       "3  unique, great stay, wonderful time hotel monac...       5\n",
       "4  great stay great stay, went seahawk game aweso...       5"
      ]
     },
     "execution_count": 4,
     "metadata": {},
     "output_type": "execute_result"
    }
   ],
   "source": [
    "df.head()"
   ]
  },
  {
   "cell_type": "code",
   "execution_count": 5,
   "metadata": {},
   "outputs": [
    {
     "data": {
      "text/plain": [
       "Index(['Review', 'Rating'], dtype='object')"
      ]
     },
     "execution_count": 5,
     "metadata": {},
     "output_type": "execute_result"
    }
   ],
   "source": [
    "df.columns"
   ]
  },
  {
   "cell_type": "code",
   "execution_count": 6,
   "metadata": {},
   "outputs": [
    {
     "name": "stdout",
     "output_type": "stream",
     "text": [
      "<class 'pandas.core.frame.DataFrame'>\n",
      "RangeIndex: 20491 entries, 0 to 20490\n",
      "Data columns (total 2 columns):\n",
      " #   Column  Non-Null Count  Dtype \n",
      "---  ------  --------------  ----- \n",
      " 0   Review  20491 non-null  object\n",
      " 1   Rating  20491 non-null  int64 \n",
      "dtypes: int64(1), object(1)\n",
      "memory usage: 320.3+ KB\n"
     ]
    }
   ],
   "source": [
    "df.info()\n"
   ]
  },
  {
   "cell_type": "code",
   "execution_count": 7,
   "metadata": {},
   "outputs": [
    {
     "data": {
      "text/html": [
       "<div>\n",
       "<style scoped>\n",
       "    .dataframe tbody tr th:only-of-type {\n",
       "        vertical-align: middle;\n",
       "    }\n",
       "\n",
       "    .dataframe tbody tr th {\n",
       "        vertical-align: top;\n",
       "    }\n",
       "\n",
       "    .dataframe thead th {\n",
       "        text-align: right;\n",
       "    }\n",
       "</style>\n",
       "<table border=\"1\" class=\"dataframe\">\n",
       "  <thead>\n",
       "    <tr style=\"text-align: right;\">\n",
       "      <th></th>\n",
       "      <th>Review</th>\n",
       "      <th>Rating</th>\n",
       "    </tr>\n",
       "  </thead>\n",
       "  <tbody>\n",
       "    <tr>\n",
       "      <th>20486</th>\n",
       "      <td>best kept secret 3rd time staying charm, not 5...</td>\n",
       "      <td>5</td>\n",
       "    </tr>\n",
       "    <tr>\n",
       "      <th>20487</th>\n",
       "      <td>great location price view hotel great quick pl...</td>\n",
       "      <td>4</td>\n",
       "    </tr>\n",
       "    <tr>\n",
       "      <th>20488</th>\n",
       "      <td>ok just looks nice modern outside, desk staff ...</td>\n",
       "      <td>2</td>\n",
       "    </tr>\n",
       "    <tr>\n",
       "      <th>20489</th>\n",
       "      <td>hotel theft ruined vacation hotel opened sept ...</td>\n",
       "      <td>1</td>\n",
       "    </tr>\n",
       "    <tr>\n",
       "      <th>20490</th>\n",
       "      <td>people talking, ca n't believe excellent ratin...</td>\n",
       "      <td>2</td>\n",
       "    </tr>\n",
       "  </tbody>\n",
       "</table>\n",
       "</div>"
      ],
      "text/plain": [
       "                                                  Review  Rating\n",
       "20486  best kept secret 3rd time staying charm, not 5...       5\n",
       "20487  great location price view hotel great quick pl...       4\n",
       "20488  ok just looks nice modern outside, desk staff ...       2\n",
       "20489  hotel theft ruined vacation hotel opened sept ...       1\n",
       "20490  people talking, ca n't believe excellent ratin...       2"
      ]
     },
     "execution_count": 7,
     "metadata": {},
     "output_type": "execute_result"
    }
   ],
   "source": [
    "df.tail()\n"
   ]
  },
  {
   "cell_type": "code",
   "execution_count": 8,
   "metadata": {},
   "outputs": [],
   "source": [
    "import matplotlib.pyplot as plt"
   ]
  },
  {
   "cell_type": "code",
   "execution_count": 9,
   "metadata": {},
   "outputs": [
    {
     "data": {
      "text/plain": [
       "Review    0\n",
       "Rating    0\n",
       "dtype: int64"
      ]
     },
     "execution_count": 9,
     "metadata": {},
     "output_type": "execute_result"
    }
   ],
   "source": [
    "df.isnull().sum()"
   ]
  },
  {
   "cell_type": "code",
   "execution_count": 10,
   "metadata": {},
   "outputs": [
    {
     "name": "stdout",
     "output_type": "stream",
     "text": [
      "Classification groups => 5\n"
     ]
    }
   ],
   "source": [
    "groups = df.groupby('Rating')\n",
    "print('Classification groups =>',len(df['Rating'].unique()))"
   ]
  },
  {
   "cell_type": "code",
   "execution_count": 11,
   "metadata": {},
   "outputs": [
    {
     "name": "stdout",
     "output_type": "stream",
     "text": [
      "Number of reviews in each rating\n",
      " Rating\n",
      "1     1421\n",
      "2     3586\n",
      "3     6552\n",
      "4    24156\n",
      "5    45270\n",
      "Name: Rating, dtype: int64\n"
     ]
    }
   ],
   "source": [
    "sum_by_rating = groups['Rating'].sum()\n",
    "print('Number of reviews in each rating\\n',sum_by_rating)"
   ]
  },
  {
   "cell_type": "code",
   "execution_count": 12,
   "metadata": {},
   "outputs": [
    {
     "data": {
      "text/plain": [
       "pandas.core.series.Series"
      ]
     },
     "execution_count": 12,
     "metadata": {},
     "output_type": "execute_result"
    }
   ],
   "source": [
    "type(sum_by_rating)"
   ]
  },
  {
   "cell_type": "code",
   "execution_count": 13,
   "metadata": {},
   "outputs": [
    {
     "data": {
      "text/plain": [
       "[<matplotlib.lines.Line2D at 0x1748c2ad760>]"
      ]
     },
     "execution_count": 13,
     "metadata": {},
     "output_type": "execute_result"
    },
    {
     "data": {
      "image/png": "[encoded data removed]",
      "text/plain": [
       "<Figure size 640x480 with 1 Axes>"
      ]
     },
     "metadata": {},
     "output_type": "display_data"
    }
   ],
   "source": [
    "import matplotlib.pyplot as plt\n",
    "\n",
    "score = [1,2,3,4,5]\n",
    "\n",
    "plt.title('Number of reviews in each Rating')\n",
    "plt.xlabel('Rating')\n",
    "plt.ylabel('Number of reviews')\n",
    "plt.grid(True)\n",
    "\n",
    "plt.plot(score, sum_by_rating, color='red', marker='o')"
   ]
  },
  {
   "attachments": {},
   "cell_type": "markdown",
   "metadata": {},
   "source": [
    "## Data Cleaning"
   ]
  },
  {
   "cell_type": "code",
   "execution_count": 14,
   "metadata": {},
   "outputs": [
    {
     "name": "stdout",
     "output_type": "stream",
     "text": [
      "Review 1:\n",
      " nice place, lunatic 20000+ miles flying space days night kill seattle early trans-con flight nyc, night original plan needed hotel none prebooked.this place recommended just block excellent irish pub kells just happened ended in.just room left 220 tax.excellent friendly staff lovely decor big rooms im used nyc rabbit hutch big spacious views water free wi-fi just need ask reception access code, place spotless nicely decorated individual usual bland chain hotels sadly prevail.the area felt fine-in limited time safe near bars shops usual stuff, no drunken noise street either.it quiet comfortable slept well.normally like add pictures reviews length stay lack ca n't time- sorry return seattle list hotels use, try,  \n",
      "Review 2:\n",
      " okay not amazing husband stayed weekend night, spent time trying great place stay seattle, read tripadvisor reviews saw listed tl 500 hotels, like pretty good bet fantastic place, great fine just not really amazing little boutique hotel expected reviews ratings, thought room nice not incredible, service better, woman desk friendly got things wrong, note visiting seattle try eat canlis, incredible meal,  \n",
      "Review 3:\n",
      " boutique charmer great location wife recently spent 5 nights inn market attended convention, nice time small comfortably furnished hotel great location just hill pike place market, walk convention center 8 blocks east pretty easy steep 1/2 block adjacent hotel, number trendy restaurants walk north ave. pioneer square old stone buildings charming pergola south road, course market 1/2 block west food stands boutiques fish flower stalls handicrafts jewelry tables entertainers ethnic dining options spill narrow alleys covered arcades, pleasure wake morning grab eat nearby watching small trucks vans unload wares vendors set tables.our room corner overlooking city spacious lots storage space wardrobe large bathroom, sink pedestal-type spreading toiletries limited glass shelf nearby small table/shelf unit, hear traffic noise street annoying did request lowest-priced room city n't expecting total silence closed doors, rooms window seats pillows nice feature makes rooms appear bigger provides additional seating good spot reading people-watching, decor contemporary beiges browns blacks predominating, good weather upstairs terrace nice place sit enjoy views bay market.the modern brick building surrounds pleasant courtyard splashing fountain/sculpture adjacent outdoor seating hotel restaurant, lobby opens courtyard fireplace stuffed chairs registration desk helpful staff operates.we enjoyed time, hotel nice option n't want large convention hotel central seattle location, aware seattle does share street people couple strip clubs near pike place market,  \n",
      "Review 4:\n",
      " loved inn inn market awesome, not beat location right market, room large beds really comfortable, room partial view elliot bay, n't miss rooftop deck best view seattle short space needle, staff friendly, highly recommended, staying future,  \n",
      "Review 5:\n",
      " n't asked better hotel experience, hotel perfect, stayed townhouse suite nights wish stayed month, soon walked room opened windows million dollar view, skyline city pike market literally 50 feet away water mountains distance, room levels kitchenette living room downstairs bedroom bathroom upstairs, bose radio great fact turned television, beds really comfortable linens top-notch, okay service word fantastic, extremely important greeted casual genuine manner time enter leave hotel eye-contact sounds easy rarity today hotel market, no matter came went greeted smile eye contact really love, staff helpful went duty ensure taken care knew great places wonderful restaurants dine at.some hotels just n't inn market definitely understands excellent service hospitality, stay small intimate property like taken care monstrous hotel, kudos staff management making fabulous hotel experience,  \n"
     ]
    }
   ],
   "source": [
    "for index,text in enumerate(df['Review'][55:60]):\n",
    "  print('Review %d:\\n'%(index+1),text)"
   ]
  },
  {
   "attachments": {},
   "cell_type": "markdown",
   "metadata": {},
   "source": [
    "Data looks cleaned and stop words are removed already. However, there are still some numbers that don't give much meaning to the review. So I will remove these numbers using regex from the review to make the model perform better.   "
   ]
  },
  {
   "attachments": {},
   "cell_type": "markdown",
   "metadata": {},
   "source": [
    "#### Removing numbers "
   ]
  },
  {
   "cell_type": "code",
   "execution_count": 15,
   "metadata": {},
   "outputs": [],
   "source": [
    "import re\n",
    "regex:str = r'\\w*\\d\\w*'\n",
    "df['Review'] = df['Review'].apply(lambda x: re.sub(regex,'',x),)"
   ]
  },
  {
   "cell_type": "code",
   "execution_count": null,
   "metadata": {},
   "outputs": [],
   "source": []
  },
  {
   "cell_type": "code",
   "execution_count": 16,
   "metadata": {},
   "outputs": [
    {
     "name": "stdout",
     "output_type": "stream",
     "text": [
      "Review 1:\n",
      " nice place, lunatic + miles flying space days night kill seattle early trans-con flight nyc, night original plan needed hotel none prebooked.this place recommended just block excellent irish pub kells just happened ended in.just room left  tax.excellent friendly staff lovely decor big rooms im used nyc rabbit hutch big spacious views water free wi-fi just need ask reception access code, place spotless nicely decorated individual usual bland chain hotels sadly prevail.the area felt fine-in limited time safe near bars shops usual stuff, no drunken noise street either.it quiet comfortable slept well.normally like add pictures reviews length stay lack ca n't time- sorry return seattle list hotels use, try,  \n",
      "Review 2:\n",
      " okay not amazing husband stayed weekend night, spent time trying great place stay seattle, read tripadvisor reviews saw listed tl  hotels, like pretty good bet fantastic place, great fine just not really amazing little boutique hotel expected reviews ratings, thought room nice not incredible, service better, woman desk friendly got things wrong, note visiting seattle try eat canlis, incredible meal,  \n",
      "Review 3:\n",
      " boutique charmer great location wife recently spent  nights inn market attended convention, nice time small comfortably furnished hotel great location just hill pike place market, walk convention center  blocks east pretty easy steep / block adjacent hotel, number trendy restaurants walk north ave. pioneer square old stone buildings charming pergola south road, course market / block west food stands boutiques fish flower stalls handicrafts jewelry tables entertainers ethnic dining options spill narrow alleys covered arcades, pleasure wake morning grab eat nearby watching small trucks vans unload wares vendors set tables.our room corner overlooking city spacious lots storage space wardrobe large bathroom, sink pedestal-type spreading toiletries limited glass shelf nearby small table/shelf unit, hear traffic noise street annoying did request lowest-priced room city n't expecting total silence closed doors, rooms window seats pillows nice feature makes rooms appear bigger provides additional seating good spot reading people-watching, decor contemporary beiges browns blacks predominating, good weather upstairs terrace nice place sit enjoy views bay market.the modern brick building surrounds pleasant courtyard splashing fountain/sculpture adjacent outdoor seating hotel restaurant, lobby opens courtyard fireplace stuffed chairs registration desk helpful staff operates.we enjoyed time, hotel nice option n't want large convention hotel central seattle location, aware seattle does share street people couple strip clubs near pike place market,  \n",
      "Review 4:\n",
      " loved inn inn market awesome, not beat location right market, room large beds really comfortable, room partial view elliot bay, n't miss rooftop deck best view seattle short space needle, staff friendly, highly recommended, staying future,  \n",
      "Review 5:\n",
      " n't asked better hotel experience, hotel perfect, stayed townhouse suite nights wish stayed month, soon walked room opened windows million dollar view, skyline city pike market literally  feet away water mountains distance, room levels kitchenette living room downstairs bedroom bathroom upstairs, bose radio great fact turned television, beds really comfortable linens top-notch, okay service word fantastic, extremely important greeted casual genuine manner time enter leave hotel eye-contact sounds easy rarity today hotel market, no matter came went greeted smile eye contact really love, staff helpful went duty ensure taken care knew great places wonderful restaurants dine at.some hotels just n't inn market definitely understands excellent service hospitality, stay small intimate property like taken care monstrous hotel, kudos staff management making fabulous hotel experience,  \n"
     ]
    }
   ],
   "source": [
    "for index,text in enumerate(df['Review'][55:60]):\n",
    "  print('Review %d:\\n'%(index+1),text)"
   ]
  },
  {
   "attachments": {},
   "cell_type": "markdown",
   "metadata": {},
   "source": [
    "Removing Special Characters"
   ]
  },
  {
   "cell_type": "code",
   "execution_count": 17,
   "metadata": {},
   "outputs": [],
   "source": [
    "df['Review'] = df['Review'].apply(lambda x: re.sub('','',x) )"
   ]
  }
 ],
 "metadata": {
  "kernelspec": {
   "display_name": "base",
   "language": "python",
   "name": "python3"
  },
  "language_info": {
   "codemirror_mode": {
    "name": "ipython",
    "version": 3
   },
   "file_extension": ".py",
   "mimetype": "text/x-python",
   "name": "python",
   "nbconvert_exporter": "python",
   "pygments_lexer": "ipython3",
   "version": "3.9.13"
  },
  "orig_nbformat": 4
 },
 "nbformat": 4,
 "nbformat_minor": 2
}
